{
 "cells": [
  {
   "cell_type": "code",
   "execution_count": 1,
   "metadata": {},
   "outputs": [],
   "source": [
    "import numpy as np\n",
    "import pandas as pd\n",
    "import os\n",
    "import glob\n",
    "import tqdm\n",
    "import matplotlib.pyplot as plt\n",
    "import seaborn as sns\n",
    "import sklearn\n",
    "\n",
    "eps = np.finfo(float).eps\n",
    "\n",
    "plt.rcParams['figure.figsize'] = 10, 10\n",
    "%matplotlib inline\n",
    "\n",
    "import torch\n",
    "import torch.nn as nn\n",
    "from torch import optim\n",
    "\n",
    "import torchvision.transforms as T\n",
    "import torch.nn.functional as F\n",
    "\n",
    "\n",
    "%load_ext autoreload\n",
    "%autoreload 2"
   ]
  },
  {
   "cell_type": "code",
   "execution_count": 2,
   "metadata": {},
   "outputs": [],
   "source": [
    "## data generation\n",
    "\n",
    "# sample random x\n",
    "def sample_x(num_samples):\n",
    "    return np.random.normal(0.,1.,[num_samples,1])\n",
    "\n",
    "# smaple y based on x : y = x + noise\n",
    "def sample_y_x(x, num_samples, noise_var):\n",
    "    return x + np.random.normal(0.,np.sqrt(noise_var),[num_samples,1])"
   ]
  },
  {
   "cell_type": "code",
   "execution_count": 3,
   "metadata": {},
   "outputs": [
    {
     "name": "stdout",
     "output_type": "stream",
     "text": [
      "the theoretical mi: 0.2027325540540822\n"
     ]
    }
   ],
   "source": [
    "num_samples = 500\n",
    "noise_var = 2.0\n",
    "\n",
    "x = sample_x(num_samples)\n",
    "y = sample_y_x(x, num_samples, noise_var)\n",
    "\n",
    "mi = 1/2 *(np.log(1 + ( 1/noise_var )))\n",
    "print('the theoretical mi: {}'.format(mi))\n"
   ]
  },
  {
   "cell_type": "markdown",
   "metadata": {},
   "source": [
    "## Divergence estimation \n",
    "Training a discriminator has been shown to be equivalent to compute  a certain divergence between two distributions p(x) and q(x).\n",
    "\n",
    "\n",
    "$JSD(p(x) , q(x)) = E_{p(x)} [ log(1 - D(x)) ] + E_{q(x)} [ log(D(x)) ]$\n",
    "\n",
    "\n",
    "$KL(p(x) , q(x))= E_{p(x)} [D(x)] - E_{q(x)} [ exp(D(x)) ] + 1$\n",
    "\n",
    "\n",
    "$Wasserstein(p(x) , q(x) = E_{p(x)} [D(x)] - E_{q(x)}[D(x)]$"
   ]
  },
  {
   "cell_type": "markdown",
   "metadata": {},
   "source": [
    "## MI estimation\n",
    "\n",
    "mutual information between two random variables $x_1$ and $x_2$ is defind as:\n",
    "\n",
    "$MI(x_1, x_2) = D( p(x_1,x_2) || p(x_1) * p(x_2) ) $\n",
    "\n",
    "- Joint sampling $(x_1, x_2) \\sim p(x_1, x_2)$ following some joint distribution $p(x_1, x_2)$\n",
    "\n",
    "- Independant sampling $x_1 \\sim p(x_1), x_2 \\sim p(x_2)$ obtained simply by shuffling the pairs in the batch"
   ]
  },
  {
   "cell_type": "code",
   "execution_count": 4,
   "metadata": {},
   "outputs": [],
   "source": [
    "class MIEstimator1(nn.Module):\n",
    "    def __init__(self, d):\n",
    "        super(MIEstimator1, self).__init__()\n",
    "        self.fc1 = nn.Linear(1, d)\n",
    "        self.fc2 = nn.Linear(1, d)\n",
    "        self.fc3 = nn.Linear(d, 1)\n",
    "\n",
    "    def forward(self, x, y):\n",
    "        x = self.fc1(x)\n",
    "        y = self.fc2(y)\n",
    "        out = F.relu(x + y)\n",
    "        out = self.fc3(out)\n",
    "        return out  \n",
    "    \n",
    "class MIEstimator2(nn.Module):\n",
    "    def __init__(self, size1, size2, d):\n",
    "        super(MIEstimator2, self).__init__()\n",
    "\n",
    "        # Vanilla MLP\n",
    "        self.net = nn.Sequential(\n",
    "            nn.Linear(size1 + size2, d),\n",
    "            nn.ReLU(True),\n",
    "            nn.Linear(d, d),\n",
    "            nn.ReLU(True),\n",
    "            nn.Linear(d, 1),\n",
    "        )\n",
    "\n",
    "    # Gradient for JSD mutual information estimation and EB-based estimation\n",
    "    def forward(self, x1, x2):\n",
    "        pos = self.net(torch.cat([x1, x2], 1))  # Positive Samples\n",
    "        neg = self.net(torch.cat([torch.roll(x1, 1, 0), x2], 1))\n",
    "        grad = -F.softplus(-pos).mean() - F.softplus(neg).mean()\n",
    "        out = pos.mean() - neg.exp().mean() + 1\n",
    "        return grad, out"
   ]
  },
  {
   "cell_type": "code",
   "execution_count": 5,
   "metadata": {},
   "outputs": [],
   "source": [
    "# evaluating the first model\n",
    "num_samples = 10000\n",
    "model = MIEstimator1(10)\n",
    "n_epoch = 100\n",
    "optimizer = torch.optim.Adam(model.parameters(), lr=0.01)\n",
    "mi_hist = []\n",
    "for epoch in range(n_epoch):\n",
    "    x_sample = sample_x(num_samples)\n",
    "    y_sample = sample_y_x(x_sample, num_samples, noise_var)\n",
    "    y_shuffle = np.random.permutation(y_sample)\n",
    "    \n",
    "    x_sample = torch.from_numpy(x_sample).type(torch.FloatTensor)\n",
    "    y_sample = torch.from_numpy(y_sample).type(torch.FloatTensor)\n",
    "    y_shuffle = torch.from_numpy(y_shuffle).type(torch.FloatTensor)  \n",
    "    \n",
    "    pred_xy = model(x_sample, y_sample)\n",
    "    pred_x_y = model(x_sample, y_shuffle)\n",
    "\n",
    "    loss = - (torch.mean(pred_xy) - torch.log(torch.mean(torch.exp(pred_x_y))))\n",
    "    mi_hist.append(-1 * loss.data.numpy())\n",
    "    model.zero_grad()\n",
    "    loss.backward()\n",
    "    optimizer.step()"
   ]
  },
  {
   "cell_type": "code",
   "execution_count": 6,
   "metadata": {},
   "outputs": [
    {
     "data": {
      "image/png": "[encoded data removed]",
      "text/plain": [
       "<Figure size 432x288 with 1 Axes>"
      ]
     },
     "metadata": {},
     "output_type": "display_data"
    }
   ],
   "source": [
    "sns.set()\n",
    "mi_theory = [mi] * len(mi_hist)\n",
    "\n",
    "plt.plot(range(0, n_epoch), mi_hist, 'b-', label='model')\n",
    "plt.plot(range(0, n_epoch), mi_theory, 'r--', label='theory')\n",
    "plt.legend()\n",
    "plt.xlabel('Epoch')\n",
    "plt.ylabel('MI')\n",
    "plt.show()"
   ]
  },
  {
   "cell_type": "code",
   "execution_count": 7,
   "metadata": {},
   "outputs": [],
   "source": [
    "# evaluating the second model\n",
    "\n",
    "num_samples = 10000\n",
    "model = MIEstimator2(1, 1, 10)\n",
    "n_epoch = 100\n",
    "optimizer = torch.optim.Adam(model.parameters(), lr=0.01)\n",
    "mi_hist = []\n",
    "for epoch in range(n_epoch):\n",
    "    x_sample = sample_x(num_samples)\n",
    "    y_sample = sample_y_x(x_sample, num_samples, noise_var)    \n",
    "    x_sample = torch.from_numpy(x_sample).type(torch.FloatTensor)\n",
    "    y_sample = torch.from_numpy(y_sample).type(torch.FloatTensor)\n",
    "    grad, out = model(x_sample, y_sample)\n",
    "    loss = -grad\n",
    "    mi_hist.append(out.data.numpy())\n",
    "    model.zero_grad()\n",
    "    loss.backward()\n",
    "    optimizer.step()"
   ]
  },
  {
   "cell_type": "code",
   "execution_count": 8,
   "metadata": {},
   "outputs": [
    {
     "data": {
      "image/png": "[encoded data removed]",
      "text/plain": [
       "<Figure size 432x288 with 1 Axes>"
      ]
     },
     "metadata": {},
     "output_type": "display_data"
    }
   ],
   "source": [
    "sns.set()\n",
    "mi_theory = [mi] * len(mi_hist)\n",
    "\n",
    "plt.plot(range(0, n_epoch), mi_hist, 'b-', label='model')\n",
    "plt.plot(range(0, n_epoch), mi_theory, 'r--', label='theory')\n",
    "plt.legend()\n",
    "plt.xlabel('Epoch')\n",
    "plt.ylabel('MI')\n",
    "plt.show()"
   ]
  },
  {
   "cell_type": "code",
   "execution_count": null,
   "metadata": {},
   "outputs": [],
   "source": []
  }
 ],
 "metadata": {
  "kernelspec": {
   "display_name": "Python 3",
   "language": "python",
   "name": "python3"
  },
  "language_info": {
   "codemirror_mode": {
    "name": "ipython",
    "version": 3
   },
   "file_extension": ".py",
   "mimetype": "text/x-python",
   "name": "python",
   "nbconvert_exporter": "python",
   "pygments_lexer": "ipython3",
   "version": "3.7.4"
  },
  "latex_envs": {
   "LaTeX_envs_menu_present": true,
   "autoclose": false,
   "autocomplete": true,
   "bibliofile": "biblio.bib",
   "cite_by": "apalike",
   "current_citInitial": 1,
   "eqLabelWithNumbers": true,
   "eqNumInitial": 1,
   "hotkeys": {
    "equation": "Ctrl-E",
    "itemize": "Ctrl-I"
   },
   "labels_anchors": false,
   "latex_user_defs": false,
   "report_style_numbering": false,
   "user_envs_cfg": false
  },
  "varInspector": {
   "cols": {
    "lenName": 16,
    "lenType": 16,
    "lenVar": 40
   },
   "kernels_config": {
    "python": {
     "delete_cmd_postfix": "",
     "delete_cmd_prefix": "del ",
     "library": "var_list.py",
     "varRefreshCmd": "print(var_dic_list())"
    },
    "r": {
     "delete_cmd_postfix": ") ",
     "delete_cmd_prefix": "rm(",
     "library": "var_list.r",
     "varRefreshCmd": "cat(var_dic_list()) "
    }
   },
   "types_to_exclude": [
    "module",
    "function",
    "builtin_function_or_method",
    "instance",
    "_Feature"
   ],
   "window_display": false
  }
 },
 "nbformat": 4,
 "nbformat_minor": 2
}
