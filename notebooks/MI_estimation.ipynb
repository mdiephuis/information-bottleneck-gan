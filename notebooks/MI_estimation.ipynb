{
 "cells": [
  {
   "cell_type": "code",
   "execution_count": 1,
   "metadata": {},
   "outputs": [],
   "source": [
    "import numpy as np\n",
    "import pandas as pd\n",
    "import os\n",
    "import glob\n",
    "import tqdm\n",
    "import matplotlib.pyplot as plt\n",
    "import seaborn as sns\n",
    "import sklearn\n",
    "\n",
    "eps = np.finfo(float).eps\n",
    "\n",
    "plt.rcParams['figure.figsize'] = 10, 10\n",
    "%matplotlib inline\n",
    "\n",
    "import torch\n",
    "import torch.nn as nn\n",
    "from torch import optim\n",
    "\n",
    "import torchvision.transforms as T\n",
    "import torch.nn.functional as F\n",
    "\n",
    "\n",
    "%load_ext autoreload\n",
    "%autoreload 2"
   ]
  },
  {
   "cell_type": "code",
   "execution_count": 3,
   "metadata": {},
   "outputs": [],
   "source": [
    "## data generation\n",
    "def gen_x(num_smaple):\n",
    "    return np.sign(np.random.normal(0.,1.,[num_smaple,1]))\n",
    "\n",
    "def gen_y(x, num_smaple, var):\n",
    "    return x + np.random.normal(0.,np.sqrt(var),[num_smaple,1])"
   ]
  },
  {
   "cell_type": "code",
   "execution_count": 4,
   "metadata": {},
   "outputs": [],
   "source": [
    "num_samples = 1000000\n",
    "var = 2.0\n",
    "x=gen_x(num_samples)\n",
    "y=gen_y(x, num_samples, var)\n",
    "\n",
    "p_y_x=np.exp(-(y - x)**2/(2 * var))\n",
    "p_y_x_minus=np.exp(-(y + 1)**2/(2 * var))\n",
    "p_y_x_plus=np.exp(-(y - 1)**2/(2 * var))\n",
    "\n",
    "mi=np.average(np.log(p_y_x/(0.5 * p_y_x_minus + 0.5 * p_y_x_plus)))"
   ]
  },
  {
   "cell_type": "code",
   "execution_count": 5,
   "metadata": {},
   "outputs": [
    {
     "name": "stdout",
     "output_type": "stream",
     "text": [
      "0.20148642082091153\n"
     ]
    }
   ],
   "source": [
    "print(mi)"
   ]
  },
  {
   "cell_type": "code",
   "execution_count": 2,
   "metadata": {},
   "outputs": [],
   "source": [
    "class MIEstimator1(nn.Module):\n",
    "    def __init__(self, d):\n",
    "        super(MIEstimator1, self).__init__()\n",
    "        self.fc1 = nn.Linear(1, d)\n",
    "        self.fc2 = nn.Linear(1, d)\n",
    "        self.fc3 = nn.Linear(d, 1)\n",
    "\n",
    "    def forward(self, x, y):\n",
    "        h1 = F.relu(self.fc1(x)+self.fc2(y))\n",
    "        h2 = self.fc3(h1)\n",
    "        return h2  \n",
    "    \n",
    "class MIEstimator2(nn.Module):\n",
    "    def __init__(self, size1, size2):\n",
    "        super(MIEstimator2, self).__init__()\n",
    "\n",
    "        # Vanilla MLP\n",
    "        self.net = nn.Sequential(\n",
    "            nn.Linear(size1 + size2, 1024),\n",
    "            nn.ReLU(True),\n",
    "            nn.Linear(1024, 1024),\n",
    "            nn.ReLU(True),\n",
    "            nn.Linear(1024, 1),\n",
    "        )\n",
    "\n",
    "    # Gradient for JSD mutual information estimation and EB-based estimation\n",
    "    def forward(self, x1, x2):\n",
    "        pos = self.net(torch.cat([x1, x2], 1))  # Positive Samples\n",
    "        neg = self.net(torch.cat([torch.roll(x1, 1, 0), x2], 1))\n",
    "        return -softplus(-pos).mean() - softplus(neg).mean(), pos.mean() - neg.exp().mean() + 1"
   ]
  },
  {
   "cell_type": "code",
   "execution_count": null,
   "metadata": {},
   "outputs": [],
   "source": [
    "model = MIEstimator1(10)\n",
    "n_epoch = 500\n",
    "optimizer = torch.optim.Adam(model.parameters(), lr=0.01)\n",
    "plot_loss = []\n",
    "for epoch in range(n_epoch):\n",
    "    x_sample = gen_x(num_samples)\n",
    "    y_sample = gen_y(x_sample, num_samples, var)\n",
    "    y_shuffle = np.random.permutation(y_sample)\n",
    "    \n",
    "    x_sample = torch.from_numpy(x_sample).type(torch.FloatTensor)\n",
    "    y_sample = torch.from_numpy(y_sample).type(torch.FloatTensor)\n",
    "    y_shuffle = torch.from_numpy(y_shuffle).type(torch.FloatTensor)  \n",
    "    \n",
    "    pred_xy = model(x_sample, y_sample)\n",
    "    pred_x_y = model(x_sample, y_shuffle)\n",
    "\n",
    "    loss = - (torch.mean(pred_xy) - torch.log(torch.mean(torch.exp(pred_x_y))))\n",
    "    plot_loss.append(loss.data.numpy())\n",
    "    model.zero_grad()\n",
    "    loss.backward()\n",
    "    optimizer.step()"
   ]
  },
  {
   "cell_type": "code",
   "execution_count": null,
   "metadata": {},
   "outputs": [],
   "source": []
  }
 ],
 "metadata": {
  "kernelspec": {
   "display_name": "Python 3",
   "language": "python",
   "name": "python3"
  },
  "language_info": {
   "codemirror_mode": {
    "name": "ipython",
    "version": 3
   },
   "file_extension": ".py",
   "mimetype": "text/x-python",
   "name": "python",
   "nbconvert_exporter": "python",
   "pygments_lexer": "ipython3",
   "version": "3.7.4"
  },
  "latex_envs": {
   "LaTeX_envs_menu_present": true,
   "autoclose": false,
   "autocomplete": true,
   "bibliofile": "biblio.bib",
   "cite_by": "apalike",
   "current_citInitial": 1,
   "eqLabelWithNumbers": true,
   "eqNumInitial": 1,
   "hotkeys": {
    "equation": "Ctrl-E",
    "itemize": "Ctrl-I"
   },
   "labels_anchors": false,
   "latex_user_defs": false,
   "report_style_numbering": false,
   "user_envs_cfg": false
  },
  "varInspector": {
   "cols": {
    "lenName": 16,
    "lenType": 16,
    "lenVar": 40
   },
   "kernels_config": {
    "python": {
     "delete_cmd_postfix": "",
     "delete_cmd_prefix": "del ",
     "library": "var_list.py",
     "varRefreshCmd": "print(var_dic_list())"
    },
    "r": {
     "delete_cmd_postfix": ") ",
     "delete_cmd_prefix": "rm(",
     "library": "var_list.r",
     "varRefreshCmd": "cat(var_dic_list()) "
    }
   },
   "types_to_exclude": [
    "module",
    "function",
    "builtin_function_or_method",
    "instance",
    "_Feature"
   ],
   "window_display": false
  }
 },
 "nbformat": 4,
 "nbformat_minor": 2
}
