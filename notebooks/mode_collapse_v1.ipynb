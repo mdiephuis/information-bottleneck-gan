{
 "cells": [
  {
   "cell_type": "code",
   "execution_count": 51,
   "metadata": {},
   "outputs": [
    {
     "name": "stdout",
     "output_type": "stream",
     "text": [
      "The autoreload extension is already loaded. To reload it, use:\n",
      "  %reload_ext autoreload\n"
     ]
    }
   ],
   "source": [
    "import numpy as np\n",
    "import pandas as pd\n",
    "import os\n",
    "import glob\n",
    "import tqdm\n",
    "import matplotlib.pyplot as plt\n",
    "import seaborn as sns\n",
    "import sklearn\n",
    "\n",
    "eps = np.finfo(float).eps\n",
    "\n",
    "plt.rcParams['figure.figsize'] = 10, 10\n",
    "%matplotlib inline\n",
    "\n",
    "import torch\n",
    "import torch.nn as nn\n",
    "from torch import optim\n",
    "\n",
    "import torchvision.transforms as T\n",
    "import torch.nn.functional as F\n",
    "\n",
    "\n",
    "%load_ext autoreload\n",
    "%autoreload 2"
   ]
  },
  {
   "cell_type": "code",
   "execution_count": 52,
   "metadata": {},
   "outputs": [],
   "source": [
    "# Generate 2D gaussians in a circle\n",
    "class gauss_circle(object):\n",
    "    def __init__(self):\n",
    "        self.num_circles = 8\n",
    "        self.std = 0.02\n",
    "        self.size = 2\n",
    "        radius = 2\n",
    "        delta = 2 * np.pi / self.num_circles\n",
    "\n",
    "        centers_x = np.asarray([radius*np.cos(i * delta) for i in range(self.num_circles)])\n",
    "        centers_y = np.asarray([radius*np.sin(i * delta) for i in range(self.num_circles)])\n",
    "\n",
    "        # Stricktly Uniform\n",
    "#         self.p = [1./self.num_circles for _ in range(self.num_circles)]\n",
    "        # Random draw from uniform distribution\n",
    "        self.p = [np.random.uniform() for _ in range(self.num_circles)]\n",
    "        self.p /= np.sum(self.p)\n",
    "    \n",
    "        self.centers = np.concatenate((centers_x[:, np.newaxis], centers_y[:, np.newaxis]), 1)\n",
    "\n",
    "        \n",
    "    def sample(self, n_samples):\n",
    "        centers_idx = np.random.choice(self.num_circles, n_samples, p=self.p)\n",
    "        centers_sample = self.centers[centers_idx, :]\n",
    "        data_sample = np.random.normal(loc=centers_sample, scale=self.std)\n",
    "        return data_sample.astype('float32')"
   ]
  },
  {
   "cell_type": "code",
   "execution_count": 53,
   "metadata": {},
   "outputs": [
    {
     "data": {
      "image/png": "[encoded data removed]",
      "text/plain": [
       "<Figure size 432x288 with 1 Axes>"
      ]
     },
     "metadata": {},
     "output_type": "display_data"
    }
   ],
   "source": [
    "sns.set()\n",
    "dset = gauss_circle()\n",
    "data = dset.sample(1000)\n",
    "_ = sns.scatterplot(data[:, 0], data[:, 1])"
   ]
  },
  {
   "cell_type": "code",
   "execution_count": 54,
   "metadata": {},
   "outputs": [
    {
     "name": "stdout",
     "output_type": "stream",
     "text": [
      "Center assignment std: 0.07833233368102901\n"
     ]
    },
    {
     "data": {
      "image/png": "[encoded data removed]",
      "text/plain": [
       "<Figure size 432x288 with 1 Axes>"
      ]
     },
     "metadata": {},
     "output_type": "display_data"
    }
   ],
   "source": [
    "sns.set()\n",
    "plt.plot(dset.p, 'bo-', linewidth=1, markersize=12)\n",
    "plt.title('Gauss weight')\n",
    "print(\"Center assignment std: {}\".format(np.std(dset.p)))"
   ]
  },
  {
   "cell_type": "code",
   "execution_count": 55,
   "metadata": {},
   "outputs": [],
   "source": [
    "# Hyper parameters of model from https://arxiv.org/abs/1611.02163\n",
    "# \"unrolled gan\"\n",
    "latent_dim = 256\n",
    "generator_hidden = 128\n",
    "discriminator_hidden = 128\n",
    "\n",
    "gen_input = latent_dim\n",
    "gen_output = dset.size\n",
    "dis_input = dset.size\n",
    "\n",
    "unrolled_steps = 10\n",
    "lr_dis = 1e-4\n",
    "lr_gen = 1e-4\n",
    "betas = (0.5, 0.999)\n",
    "num_iter = 3000\n",
    "d_steps = 1\n",
    "g_steps = 1\n",
    "use_cuda = False"
   ]
  },
  {
   "cell_type": "code",
   "execution_count": 56,
   "metadata": {},
   "outputs": [],
   "source": [
    "# Network definitions\n",
    "def sample_gauss_noise(batch_size, dim):\n",
    "    return torch.Tensor(batch_size, dim).normal_(0, 1)\n",
    "\n",
    "class Generator(nn.Module):\n",
    "    def __init__(self, input_size, hidden_size, output_size):\n",
    "        super(Generator, self).__init__()\n",
    "        self.map1 = nn.Linear(input_size, hidden_size)\n",
    "        self.map2 = nn.Linear(hidden_size, hidden_size)\n",
    "        self.map3 = nn.Linear(hidden_size, output_size)\n",
    "\n",
    "    def forward(self, x):\n",
    "        x = torch.tanh(self.map1(x))\n",
    "        x = torch.tanh(self.map2(x))\n",
    "        return self.map3(x)\n",
    "\n",
    "class Discriminator(nn.Module):\n",
    "    def __init__(self, input_size, hidden_size, output_size):\n",
    "        super(Discriminator, self).__init__()\n",
    "        self.map1 = nn.Linear(input_size, hidden_size)\n",
    "        self.map2 = nn.Linear(hidden_size, hidden_size)\n",
    "        self.map3 = nn.Linear(hidden_size, output_size)\n",
    "\n",
    "    def forward(self, x):\n",
    "        x = torch.relu(self.map1(x))\n",
    "        x = torch.relu(self.map2(x))\n",
    "        return torch.sigmoid(self.map3(x))"
   ]
  },
  {
   "cell_type": "code",
   "execution_count": 57,
   "metadata": {},
   "outputs": [],
   "source": [
    "# Enable CUDA, set tensor type and device\n",
    "if use_cuda:\n",
    "    dtype = torch.cuda.FloatTensor\n",
    "    device = torch.device(\"cuda:0\")\n",
    "    print('GPU')\n",
    "else:\n",
    "    dtype = torch.FloatTensor\n",
    "    device = torch.device(\"cpu\")\n",
    "\n",
    "\n",
    "G = Generator(gen_input, generator_hidden, gen_output)\n",
    "D = Discriminator(dis_input, discriminator_hidden, 1)\n",
    "\n",
    "if use_cuda:\n",
    "    G = G.cuda()\n",
    "    D = D.cuda()\n",
    "    \n",
    "# Binary cross entropy: http://pytorch.org/docs/nn.html#bceloss\n",
    "loss_bce = nn.BCELoss()  \n",
    "D_optim = optim.Adam(D.parameters(), lr=lr_dis, betas=betas)\n",
    "G_optim = optim.Adam(G.parameters(), lr=lr_gen, betas=betas)"
   ]
  },
  {
   "cell_type": "code",
   "execution_count": 70,
   "metadata": {},
   "outputs": [],
   "source": [
    "# Standard loop from DCGAN training\n",
    "def train_validate(G, D, G_optim, D_optim, dset, num_iter):\n",
    "    \n",
    "    batch_size = 512\n",
    "    for i in range(num_iter):\n",
    "\n",
    "\n",
    "        x = torch.from_numpy(dset.sample(batch_size))\n",
    "        x = x.cuda() if use_cuda else x\n",
    "\n",
    "        # Real data, discriminator forward\n",
    "        y_real = D(x)\n",
    "\n",
    "        # Sample z from uniform\n",
    "        z = sample_gauss_noise(batch_size, latent_dim).type(dtype)\n",
    "\n",
    "        # Generator forward\n",
    "        with torch.no_grad():\n",
    "            x_fake = G(z).detach()\n",
    "        y_fake = D(x_fake)\n",
    "\n",
    "        # Discriminator loss\n",
    "        y_ones = torch.ones(batch_size, )\n",
    "        y_zeros = torch.zeros(batch_size, )\n",
    "\n",
    "        y_ones = y_ones.cuda() if use_cuda else y_ones\n",
    "        y_zeros = y_zeros.cuda() if use_cuda else y_zeros\n",
    "\n",
    "        d_loss = loss_bce(y_real, y_ones) + loss_bce(y_fake, y_zeros)\n",
    "\n",
    "        D_optim.zero_grad()\n",
    "        d_loss.backward()\n",
    "        D_optim.step()\n",
    "\n",
    "        # Generator forward again\n",
    "        z = sample_gauss_noise(batch_size, latent_dim).type(dtype)\n",
    "\n",
    "        # Generator forward\n",
    "        x_fake = G(z)\n",
    "        y_fake = D(x_fake)\n",
    "\n",
    "        # Generator loss\n",
    "        y_ones = torch.ones(batch_size, )\n",
    "        y_ones = y_ones.cuda() if use_cuda else y_ones\n",
    "\n",
    "        g_loss = loss_bce(y_fake, y_ones)\n",
    "        \n",
    "        G_optim.zero_grad()\n",
    "        g_loss.backward()\n",
    "        G_optim.step()\n",
    "        \n",
    "        # Generate examples\n",
    "        if i % 2000 == 0:\n",
    "            # Generator forward\n",
    "            z = sample_gauss_noise(batch_size, latent_dim).type(dtype)\n",
    "            with torch.no_grad():\n",
    "                x_fake = G(z).cpu().detach().numpy()\n",
    "            \n",
    "            plt.scatter(x_fake[:, 0], x_fake[:, 1], s=10, c='b', alpha=0.5)\n",
    "            plt.scatter(dset.centers[:, 0], dset.centers[:, 1], s=100, c='g', alpha=0.5)\n",
    "            \n",
    "            plt.ylim(-5, 5)\n",
    "            plt.xlim(-5, 5)\n",
    "            plt.show()\n",
    "            plt.close()\n",
    "            \n",
    "    \n",
    "    return \n",
    "#     return G_batch_loss / num_iter, D_batch_loss / num_iter"
   ]
  },
  {
   "cell_type": "code",
   "execution_count": null,
   "metadata": {},
   "outputs": [
    {
     "data": {
      "image/png": "[encoded data removed]",
      "text/plain": [
       "<Figure size 432x288 with 1 Axes>"
      ]
     },
     "metadata": {},
     "output_type": "display_data"
    }
   ],
   "source": [
    "num_iter = 12000\n",
    "train_validate(G, D, G_optim, D_optim, dset, num_iter)"
   ]
  },
  {
   "cell_type": "code",
   "execution_count": null,
   "metadata": {},
   "outputs": [],
   "source": []
  },
  {
   "cell_type": "code",
   "execution_count": null,
   "metadata": {},
   "outputs": [],
   "source": []
  },
  {
   "cell_type": "code",
   "execution_count": null,
   "metadata": {},
   "outputs": [],
   "source": []
  },
  {
   "cell_type": "code",
   "execution_count": null,
   "metadata": {},
   "outputs": [],
   "source": []
  }
 ],
 "metadata": {
  "kernelspec": {
   "display_name": "Python 3",
   "language": "python",
   "name": "python3"
  },
  "language_info": {
   "codemirror_mode": {
    "name": "ipython",
    "version": 3
   },
   "file_extension": ".py",
   "mimetype": "text/x-python",
   "name": "python",
   "nbconvert_exporter": "python",
   "pygments_lexer": "ipython3",
   "version": "3.7.4"
  }
 },
 "nbformat": 4,
 "nbformat_minor": 2
}
