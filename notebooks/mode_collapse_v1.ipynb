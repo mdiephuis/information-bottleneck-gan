{
 "cells": [
  {
   "cell_type": "code",
   "execution_count": 1,
   "metadata": {},
   "outputs": [],
   "source": [
    "import numpy as np\n",
    "import pandas as pd\n",
    "import os\n",
    "import glob\n",
    "import tqdm\n",
    "import matplotlib.pyplot as plt\n",
    "import seaborn as sns\n",
    "import sklearn\n",
    "\n",
    "eps = np.finfo(float).eps\n",
    "\n",
    "plt.rcParams['figure.figsize'] = 10, 10\n",
    "%matplotlib inline\n",
    "\n",
    "import torch\n",
    "import torch.nn as nn\n",
    "from torch.optim import Adam, SGD\n",
    "from torch.autograd import Variable\n",
    "from torch.utils.data import DataLoader\n",
    "from torch.utils.data import sampler\n",
    "\n",
    "import torchvision.datasets as dset\n",
    "import torchvision.transforms as T\n",
    "import torch.nn.functional as F\n",
    "\n",
    "\n",
    "%load_ext autoreload\n",
    "%autoreload 2"
   ]
  },
  {
   "cell_type": "code",
   "execution_count": 29,
   "metadata": {},
   "outputs": [],
   "source": [
    "# Generate 2D gaussians in a circle\n",
    "class gauss_circle(object):\n",
    "    def __init__(self):\n",
    "        self.num_circles = 8\n",
    "        self.std = 0.02\n",
    "        \n",
    "        radius = 2\n",
    "        delta = 2 * np.pi / self.num_circles\n",
    "\n",
    "        centers_x = np.asarray([radius*np.cos(i * delta) for i in range(self.num_circles)])\n",
    "        centers_y = np.asarray([radius*np.sin(i * delta) for i in range(self.num_circles)])\n",
    "\n",
    "        self.p = [1./self.num_circles for _ in range(self.num_circles)]\n",
    "        self.centers = np.concatenate((centers_x[:, np.newaxis], centers_y[:, np.newaxis]), 1)\n",
    "        \n",
    "    def sample(self, n_samples):\n",
    "        centers_idx = np.random.choice(self.num_circles, n_samples, p=self.p)\n",
    "        print(self.centers.shape)\n",
    "        centers_sample = self.centers[centers_idx, :]\n",
    "        data_sample = np.random.normal(loc=centers_sample, scale=self.std)\n",
    "        return data_sample.astype('float32')\n",
    "\n",
    "    \n",
    "    \n"
   ]
  },
  {
   "cell_type": "code",
   "execution_count": 37,
   "metadata": {},
   "outputs": [
    {
     "name": "stdout",
     "output_type": "stream",
     "text": [
      "(8, 2)\n"
     ]
    },
    {
     "data": {
      "image/png": "[encoded data removed]",
      "text/plain": [
       "<Figure size 432x288 with 1 Axes>"
      ]
     },
     "metadata": {
      "needs_background": "light"
     },
     "output_type": "display_data"
    }
   ],
   "source": [
    "dist = gauss_circle()\n",
    "data = dist.sample(1000)\n",
    "_ = sns.scatterplot(data[:, 0], data[:, 1])"
   ]
  },
  {
   "cell_type": "code",
   "execution_count": null,
   "metadata": {},
   "outputs": [],
   "source": [
    "# Network definitions\n"
   ]
  }
 ],
 "metadata": {
  "kernelspec": {
   "display_name": "Python 3",
   "language": "python",
   "name": "python3"
  },
  "language_info": {
   "codemirror_mode": {
    "name": "ipython",
    "version": 3
   },
   "file_extension": ".py",
   "mimetype": "text/x-python",
   "name": "python",
   "nbconvert_exporter": "python",
   "pygments_lexer": "ipython3",
   "version": "3.7.4"
  }
 },
 "nbformat": 4,
 "nbformat_minor": 2
}
